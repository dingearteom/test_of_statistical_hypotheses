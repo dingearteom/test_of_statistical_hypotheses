{
 "cells": [
  {
   "cell_type": "code",
   "execution_count": 38,
   "metadata": {},
   "outputs": [],
   "source": [
    "import pandas as pd\n",
    "import matplotlib.pyplot as plt\n",
    "from scipy.stats import mannwhitneyu\n",
    "import seaborn"
   ]
  },
  {
   "cell_type": "code",
   "execution_count": 6,
   "metadata": {},
   "outputs": [],
   "source": [
    "df = pd.read_csv('data/Nursing Home Data/Nursing Home Data_data', sep='\\s+')"
   ]
  },
  {
   "cell_type": "code",
   "execution_count": 10,
   "metadata": {},
   "outputs": [
    {
     "data": {
      "text/html": [
       "<div>\n",
       "<style scoped>\n",
       "    .dataframe tbody tr th:only-of-type {\n",
       "        vertical-align: middle;\n",
       "    }\n",
       "\n",
       "    .dataframe tbody tr th {\n",
       "        vertical-align: top;\n",
       "    }\n",
       "\n",
       "    .dataframe thead th {\n",
       "        text-align: right;\n",
       "    }\n",
       "</style>\n",
       "<table border=\"1\" class=\"dataframe\">\n",
       "  <thead>\n",
       "    <tr style=\"text-align: right;\">\n",
       "      <th></th>\n",
       "      <th>BED</th>\n",
       "      <th>MCDAYS</th>\n",
       "      <th>TDAYS</th>\n",
       "      <th>PCREV</th>\n",
       "      <th>NSAL</th>\n",
       "      <th>FEXP</th>\n",
       "      <th>RURAL</th>\n",
       "    </tr>\n",
       "  </thead>\n",
       "  <tbody>\n",
       "    <tr>\n",
       "      <th>0</th>\n",
       "      <td>244</td>\n",
       "      <td>128</td>\n",
       "      <td>385</td>\n",
       "      <td>23521</td>\n",
       "      <td>5230</td>\n",
       "      <td>5334</td>\n",
       "      <td>0</td>\n",
       "    </tr>\n",
       "    <tr>\n",
       "      <th>1</th>\n",
       "      <td>59</td>\n",
       "      <td>155</td>\n",
       "      <td>203</td>\n",
       "      <td>9160</td>\n",
       "      <td>2459</td>\n",
       "      <td>493</td>\n",
       "      <td>1</td>\n",
       "    </tr>\n",
       "    <tr>\n",
       "      <th>2</th>\n",
       "      <td>120</td>\n",
       "      <td>281</td>\n",
       "      <td>392</td>\n",
       "      <td>21900</td>\n",
       "      <td>6304</td>\n",
       "      <td>6115</td>\n",
       "      <td>0</td>\n",
       "    </tr>\n",
       "    <tr>\n",
       "      <th>3</th>\n",
       "      <td>120</td>\n",
       "      <td>291</td>\n",
       "      <td>419</td>\n",
       "      <td>22354</td>\n",
       "      <td>6590</td>\n",
       "      <td>6346</td>\n",
       "      <td>0</td>\n",
       "    </tr>\n",
       "    <tr>\n",
       "      <th>4</th>\n",
       "      <td>120</td>\n",
       "      <td>238</td>\n",
       "      <td>363</td>\n",
       "      <td>17421</td>\n",
       "      <td>5362</td>\n",
       "      <td>6225</td>\n",
       "      <td>0</td>\n",
       "    </tr>\n",
       "  </tbody>\n",
       "</table>\n",
       "</div>"
      ],
      "text/plain": [
       "   BED  MCDAYS  TDAYS  PCREV  NSAL  FEXP  RURAL\n",
       "0  244     128    385  23521  5230  5334      0\n",
       "1   59     155    203   9160  2459   493      1\n",
       "2  120     281    392  21900  6304  6115      0\n",
       "3  120     291    419  22354  6590  6346      0\n",
       "4  120     238    363  17421  5362  6225      0"
      ]
     },
     "execution_count": 10,
     "metadata": {},
     "output_type": "execute_result"
    }
   ],
   "source": [
    "df.head()"
   ]
  },
  {
   "cell_type": "code",
   "execution_count": 8,
   "metadata": {},
   "outputs": [],
   "source": [
    "df_rural = df[df['RURAL']==1]\n",
    "df_urban = df[df['RURAL']==0]"
   ]
  },
  {
   "cell_type": "code",
   "execution_count": 11,
   "metadata": {},
   "outputs": [
    {
     "data": {
      "text/html": [
       "<div>\n",
       "<style scoped>\n",
       "    .dataframe tbody tr th:only-of-type {\n",
       "        vertical-align: middle;\n",
       "    }\n",
       "\n",
       "    .dataframe tbody tr th {\n",
       "        vertical-align: top;\n",
       "    }\n",
       "\n",
       "    .dataframe thead th {\n",
       "        text-align: right;\n",
       "    }\n",
       "</style>\n",
       "<table border=\"1\" class=\"dataframe\">\n",
       "  <thead>\n",
       "    <tr style=\"text-align: right;\">\n",
       "      <th></th>\n",
       "      <th>BED</th>\n",
       "      <th>MCDAYS</th>\n",
       "      <th>TDAYS</th>\n",
       "      <th>PCREV</th>\n",
       "      <th>NSAL</th>\n",
       "      <th>FEXP</th>\n",
       "      <th>RURAL</th>\n",
       "    </tr>\n",
       "  </thead>\n",
       "  <tbody>\n",
       "    <tr>\n",
       "      <th>1</th>\n",
       "      <td>59</td>\n",
       "      <td>155</td>\n",
       "      <td>203</td>\n",
       "      <td>9160</td>\n",
       "      <td>2459</td>\n",
       "      <td>493</td>\n",
       "      <td>1</td>\n",
       "    </tr>\n",
       "    <tr>\n",
       "      <th>5</th>\n",
       "      <td>65</td>\n",
       "      <td>180</td>\n",
       "      <td>234</td>\n",
       "      <td>10531</td>\n",
       "      <td>3622</td>\n",
       "      <td>449</td>\n",
       "      <td>1</td>\n",
       "    </tr>\n",
       "    <tr>\n",
       "      <th>6</th>\n",
       "      <td>120</td>\n",
       "      <td>306</td>\n",
       "      <td>372</td>\n",
       "      <td>22147</td>\n",
       "      <td>4406</td>\n",
       "      <td>4998</td>\n",
       "      <td>1</td>\n",
       "    </tr>\n",
       "    <tr>\n",
       "      <th>7</th>\n",
       "      <td>90</td>\n",
       "      <td>214</td>\n",
       "      <td>305</td>\n",
       "      <td>14025</td>\n",
       "      <td>4173</td>\n",
       "      <td>966</td>\n",
       "      <td>1</td>\n",
       "    </tr>\n",
       "    <tr>\n",
       "      <th>9</th>\n",
       "      <td>120</td>\n",
       "      <td>133</td>\n",
       "      <td>188</td>\n",
       "      <td>11729</td>\n",
       "      <td>3224</td>\n",
       "      <td>6442</td>\n",
       "      <td>1</td>\n",
       "    </tr>\n",
       "  </tbody>\n",
       "</table>\n",
       "</div>"
      ],
      "text/plain": [
       "   BED  MCDAYS  TDAYS  PCREV  NSAL  FEXP  RURAL\n",
       "1   59     155    203   9160  2459   493      1\n",
       "5   65     180    234  10531  3622   449      1\n",
       "6  120     306    372  22147  4406  4998      1\n",
       "7   90     214    305  14025  4173   966      1\n",
       "9  120     133    188  11729  3224  6442      1"
      ]
     },
     "execution_count": 11,
     "metadata": {},
     "output_type": "execute_result"
    }
   ],
   "source": [
    "df_rural.head()"
   ]
  },
  {
   "cell_type": "code",
   "execution_count": 12,
   "metadata": {},
   "outputs": [
    {
     "data": {
      "text/html": [
       "<div>\n",
       "<style scoped>\n",
       "    .dataframe tbody tr th:only-of-type {\n",
       "        vertical-align: middle;\n",
       "    }\n",
       "\n",
       "    .dataframe tbody tr th {\n",
       "        vertical-align: top;\n",
       "    }\n",
       "\n",
       "    .dataframe thead th {\n",
       "        text-align: right;\n",
       "    }\n",
       "</style>\n",
       "<table border=\"1\" class=\"dataframe\">\n",
       "  <thead>\n",
       "    <tr style=\"text-align: right;\">\n",
       "      <th></th>\n",
       "      <th>BED</th>\n",
       "      <th>MCDAYS</th>\n",
       "      <th>TDAYS</th>\n",
       "      <th>PCREV</th>\n",
       "      <th>NSAL</th>\n",
       "      <th>FEXP</th>\n",
       "      <th>RURAL</th>\n",
       "    </tr>\n",
       "  </thead>\n",
       "  <tbody>\n",
       "    <tr>\n",
       "      <th>0</th>\n",
       "      <td>244</td>\n",
       "      <td>128</td>\n",
       "      <td>385</td>\n",
       "      <td>23521</td>\n",
       "      <td>5230</td>\n",
       "      <td>5334</td>\n",
       "      <td>0</td>\n",
       "    </tr>\n",
       "    <tr>\n",
       "      <th>2</th>\n",
       "      <td>120</td>\n",
       "      <td>281</td>\n",
       "      <td>392</td>\n",
       "      <td>21900</td>\n",
       "      <td>6304</td>\n",
       "      <td>6115</td>\n",
       "      <td>0</td>\n",
       "    </tr>\n",
       "    <tr>\n",
       "      <th>3</th>\n",
       "      <td>120</td>\n",
       "      <td>291</td>\n",
       "      <td>419</td>\n",
       "      <td>22354</td>\n",
       "      <td>6590</td>\n",
       "      <td>6346</td>\n",
       "      <td>0</td>\n",
       "    </tr>\n",
       "    <tr>\n",
       "      <th>4</th>\n",
       "      <td>120</td>\n",
       "      <td>238</td>\n",
       "      <td>363</td>\n",
       "      <td>17421</td>\n",
       "      <td>5362</td>\n",
       "      <td>6225</td>\n",
       "      <td>0</td>\n",
       "    </tr>\n",
       "    <tr>\n",
       "      <th>8</th>\n",
       "      <td>96</td>\n",
       "      <td>155</td>\n",
       "      <td>169</td>\n",
       "      <td>8812</td>\n",
       "      <td>1955</td>\n",
       "      <td>1260</td>\n",
       "      <td>0</td>\n",
       "    </tr>\n",
       "  </tbody>\n",
       "</table>\n",
       "</div>"
      ],
      "text/plain": [
       "   BED  MCDAYS  TDAYS  PCREV  NSAL  FEXP  RURAL\n",
       "0  244     128    385  23521  5230  5334      0\n",
       "2  120     281    392  21900  6304  6115      0\n",
       "3  120     291    419  22354  6590  6346      0\n",
       "4  120     238    363  17421  5362  6225      0\n",
       "8   96     155    169   8812  1955  1260      0"
      ]
     },
     "execution_count": 12,
     "metadata": {},
     "output_type": "execute_result"
    }
   ],
   "source": [
    "df_urban.head()"
   ]
  },
  {
   "cell_type": "markdown",
   "metadata": {},
   "source": [
    "### Visualisation"
   ]
  },
  {
   "cell_type": "code",
   "execution_count": 28,
   "metadata": {},
   "outputs": [],
   "source": [
    "\n",
    "def two_histograms(x, y):\n",
    "    x.hist(alpha=0.5, weights=[1./len(x)]*len(x), label='urban')\n",
    "    y.hist(alpha=0.5, weights=[1./len(y)]*len(y), label='rural')\n",
    "    plt.axvline(x.mean(), color='blue', alpha=0.8, linestyle='dashed')\n",
    "    plt.axvline(y.mean(), color='orange', alpha=0.8, linestyle='dashed')\n",
    "    plt.legend(['urban', 'rural', 'Urban', 'Rural'])"
   ]
  },
  {
   "cell_type": "code",
   "execution_count": 29,
   "metadata": {},
   "outputs": [
    {
     "data": {
      "image/png": "[encoded data removed]",
      "text/plain": [
       "<Figure size 432x288 with 1 Axes>"
      ]
     },
     "metadata": {
      "needs_background": "light"
     },
     "output_type": "display_data"
    }
   ],
   "source": [
    "two_histograms(df_urban['NSAL'], df_rural['NSAL'])"
   ]
  },
  {
   "cell_type": "markdown",
   "metadata": {},
   "source": [
    "Не вооруженным глазом выдно, что распределения не нормальны"
   ]
  },
  {
   "cell_type": "code",
   "execution_count": 37,
   "metadata": {},
   "outputs": [
    {
     "name": "stdout",
     "output_type": "stream",
     "text": [
      "p-value: 0.0008872799867406389\n"
     ]
    }
   ],
   "source": [
    "res = mannwhitneyu(df_urban['NSAL'], df_rural['NSAL'])\n",
    "print('p-value:', res[1])"
   ]
  },
  {
   "cell_type": "markdown",
   "metadata": {},
   "source": [
    "Медианы не равны, так как p-value < 0.05"
   ]
  },
  {
   "cell_type": "code",
   "execution_count": 41,
   "metadata": {},
   "outputs": [
    {
     "data": {
      "text/plain": [
       "<matplotlib.axes._subplots.AxesSubplot at 0x7f6e8c908910>"
      ]
     },
     "execution_count": 41,
     "metadata": {},
     "output_type": "execute_result"
    },
    {
     "data": {
      "image/png": "[encoded data removed]",
      "text/plain": [
       "<Figure size 432x288 with 1 Axes>"
      ]
     },
     "metadata": {
      "needs_background": "light"
     },
     "output_type": "display_data"
    }
   ],
   "source": [
    "seaborn.boxplot(x='RURAL', y='NSAL', data=df)"
   ]
  },
  {
   "cell_type": "markdown",
   "metadata": {},
   "source": [
    "Еще раз убедились, что средние отличаются"
   ]
  },
  {
   "cell_type": "code",
   "execution_count": null,
   "metadata": {},
   "outputs": [],
   "source": []
  }
 ],
 "metadata": {
  "kernelspec": {
   "display_name": "Python 3",
   "language": "python",
   "name": "python3"
  },
  "language_info": {
   "codemirror_mode": {
    "name": "ipython",
    "version": 3
   },
   "file_extension": ".py",
   "mimetype": "text/x-python",
   "name": "python",
   "nbconvert_exporter": "python",
   "pygments_lexer": "ipython3",
   "version": "3.8.3"
  }
 },
 "nbformat": 4,
 "nbformat_minor": 4
}
